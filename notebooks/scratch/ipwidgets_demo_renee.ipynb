{
 "metadata": {
  "language_info": {
   "codemirror_mode": {
    "name": "ipython",
    "version": 3
   },
   "file_extension": ".py",
   "mimetype": "text/x-python",
   "name": "python",
   "nbconvert_exporter": "python",
   "pygments_lexer": "ipython3",
   "version": "3.7.4-final"
  },
  "orig_nbformat": 2,
  "kernelspec": {
   "name": "python3",
   "display_name": "Python 3.7.4 64-bit ('base': conda)",
   "metadata": {
    "interpreter": {
     "hash": "dca0ade3e726a953b501b15e8e990130d2b7799f14cfd9f4271676035ebe5511"
    }
   }
  }
 },
 "nbformat": 4,
 "nbformat_minor": 2,
 "cells": [
  {
   "cell_type": "code",
   "execution_count": 7,
   "metadata": {},
   "outputs": [],
   "source": [
    "from ipywidgets import interact, fixed, IntSlider\n",
    "import numpy as np\n",
    "import matplotlib.pyplot as plt\n",
    "import tifffile\n",
    "from pathlib import Path "
   ]
  },
  {
   "cell_type": "code",
   "execution_count": 4,
   "metadata": {},
   "outputs": [
    {
     "output_type": "display_data",
     "data": {
      "text/plain": "interactive(children=(IntSlider(value=3, description='x', max=9, min=-3), IntSlider(value=4, description='y', …",
      "application/vnd.jupyter.widget-view+json": {
       "version_major": 2,
       "version_minor": 0,
       "model_id": "04ace031bb8b4b17b5134cf5b4c53d27"
      }
     },
     "metadata": {}
    },
    {
     "output_type": "execute_result",
     "data": {
      "text/plain": [
       "<function __main__.add(x, y)>"
      ]
     },
     "metadata": {},
     "execution_count": 4
    }
   ],
   "source": [
    "def add(x, y):\n",
    "    return x +y\n",
    "\n",
    "interact(add, x=3, y=4)"
   ]
  },
  {
   "cell_type": "code",
   "execution_count": 5,
   "metadata": {},
   "outputs": [
    {
     "output_type": "display_data",
     "data": {
      "text/plain": "interactive(children=(IntSlider(value=3, description='x', max=9, min=-3), IntSlider(value=4, description='y', …",
      "application/vnd.jupyter.widget-view+json": {
       "version_major": 2,
       "version_minor": 0,
       "model_id": "2f24e0f4e83b493baeb6f4fe8d440567"
      }
     },
     "metadata": {}
    }
   ],
   "source": [
    "@interact(x=3, y=4)\n",
    "def add(x, y):\n",
    "    return x + y"
   ]
  },
  {
   "cell_type": "code",
   "execution_count": 8,
   "metadata": {},
   "outputs": [
    {
     "output_type": "display_data",
     "data": {
      "text/plain": "interactive(children=(IntSlider(value=6, description='x', max=8, min=2), IntSlider(value=6, description='z', m…",
      "application/vnd.jupyter.widget-view+json": {
       "version_major": 2,
       "version_minor": 0,
       "model_id": "45e58db7917a43d5b680755cd1961dde"
      }
     },
     "metadata": {}
    }
   ],
   "source": [
    "#@ only interact with the function on the next line \n",
    "@interact(\n",
    "    x=IntSlider(value=6, min=2, max=8),\n",
    "    z=IntSlider(value=6, min=2, max=8),\n",
    ")\n",
    "def add(x, z):\n",
    "    return x + z"
   ]
  },
  {
   "cell_type": "code",
   "execution_count": 9,
   "metadata": {},
   "outputs": [],
   "source": [
    "mov = np.random.normal(0, 2, size=(300, 300, 100))\n",
    "mov;"
   ]
  },
  {
   "cell_type": "code",
   "execution_count": 10,
   "metadata": {},
   "outputs": [
    {
     "output_type": "display_data",
     "data": {
      "text/plain": "interactive(children=(IntSlider(value=0, description='idx', max=99), Output()), _dom_classes=('widget-interact…",
      "application/vnd.jupyter.widget-view+json": {
       "version_major": 2,
       "version_minor": 0,
       "model_id": "39e03994f4d14a578960fc1f9b5921a0"
      }
     },
     "metadata": {}
    }
   ],
   "source": [
    "@interact(\n",
    "    idx=IntSlider(value=0, min=0, max=mov.shape[2] -1)\n",
    ")\n",
    "def show(idx):\n",
    "    plt.imshow(mov[:, :, idx])"
   ]
  },
  {
   "cell_type": "code",
   "execution_count": null,
   "metadata": {},
   "outputs": [],
   "source": []
  }
 ]
}